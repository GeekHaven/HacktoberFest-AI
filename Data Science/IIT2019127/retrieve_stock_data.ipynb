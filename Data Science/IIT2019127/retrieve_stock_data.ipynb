{
 "cells": [
  {
   "cell_type": "code",
   "execution_count": 1,
   "metadata": {},
   "outputs": [],
   "source": [
    "import pandas as pd\n",
    "import numpy as np \n",
    "import seaborn as sns\n",
    "import matplotlib.pyplot as plt\n",
    "import os"
   ]
  },
  {
   "cell_type": "code",
   "execution_count": 2,
   "metadata": {},
   "outputs": [
    {
     "name": "stdout",
     "output_type": "stream",
     "text": [
      "Requirement already satisfied: yfinance in c:\\users\\mridul\\anaconda3\\lib\\site-packages (0.1.55)\n",
      "Requirement already satisfied: multitasking>=0.0.7 in c:\\users\\mridul\\anaconda3\\lib\\site-packages (from yfinance) (0.0.9)\n",
      "Requirement already satisfied: lxml>=4.5.1 in c:\\users\\mridul\\anaconda3\\lib\\site-packages (from yfinance) (4.5.2)\n",
      "Requirement already satisfied: pandas>=0.24 in c:\\users\\mridul\\anaconda3\\lib\\site-packages (from yfinance) (1.0.5)\n",
      "Requirement already satisfied: requests>=2.20 in c:\\users\\mridul\\anaconda3\\lib\\site-packages (from yfinance) (2.24.0)\n",
      "Requirement already satisfied: numpy>=1.15 in c:\\users\\mridul\\anaconda3\\lib\\site-packages (from yfinance) (1.18.5)\n",
      "Requirement already satisfied: python-dateutil>=2.6.1 in c:\\users\\mridul\\anaconda3\\lib\\site-packages (from pandas>=0.24->yfinance) (2.8.1)\n",
      "Requirement already satisfied: pytz>=2017.2 in c:\\users\\mridul\\anaconda3\\lib\\site-packages (from pandas>=0.24->yfinance) (2020.1)\n",
      "Requirement already satisfied: idna<3,>=2.5 in c:\\users\\mridul\\anaconda3\\lib\\site-packages (from requests>=2.20->yfinance) (2.10)\n",
      "Requirement already satisfied: urllib3!=1.25.0,!=1.25.1,<1.26,>=1.21.1 in c:\\users\\mridul\\anaconda3\\lib\\site-packages (from requests>=2.20->yfinance) (1.25.9)\n",
      "Requirement already satisfied: certifi>=2017.4.17 in c:\\users\\mridul\\anaconda3\\lib\\site-packages (from requests>=2.20->yfinance) (2020.6.20)\n",
      "Requirement already satisfied: chardet<4,>=3.0.2 in c:\\users\\mridul\\anaconda3\\lib\\site-packages (from requests>=2.20->yfinance) (3.0.4)\n",
      "Requirement already satisfied: six>=1.5 in c:\\users\\mridul\\anaconda3\\lib\\site-packages (from python-dateutil>=2.6.1->pandas>=0.24->yfinance) (1.15.0)\n",
      "Note: you may need to restart the kernel to use updated packages.\n"
     ]
    }
   ],
   "source": [
    "pip install yfinance"
   ]
  },
  {
   "cell_type": "code",
   "execution_count": 3,
   "metadata": {},
   "outputs": [],
   "source": [
    "import yfinance as yf"
   ]
  },
  {
   "cell_type": "code",
   "execution_count": 4,
   "metadata": {},
   "outputs": [
    {
     "name": "stdout",
     "output_type": "stream",
     "text": [
      "Enter ticker: (Enter 'x' for default ticker (GOOGL) x\n"
     ]
    }
   ],
   "source": [
    "# Enter ticker for a particular stock ( Default ticker of google)\n",
    "ticker = input(\"Enter ticker: (Enter 'x' for default ticker (GOOGLE) \")"
   ]
  },
  {
   "cell_type": "code",
   "execution_count": 5,
   "metadata": {},
   "outputs": [],
   "source": [
    "if ticker == 'x':\n",
    "    ticker = 'GOOGL'"
   ]
  },
  {
   "cell_type": "code",
   "execution_count": 6,
   "metadata": {},
   "outputs": [
    {
     "name": "stdout",
     "output_type": "stream",
     "text": [
      "Enter intial date: (yyyy-mm-dd) (As we want interval 1m date must be from last 30 days )2020-10-01\n"
     ]
    }
   ],
   "source": [
    "# Enter initial date\n",
    "d1 = input(\"Enter intial date: (yyyy-mm-dd) (As we want interval 1m date must be from last 30 days )\")"
   ]
  },
  {
   "cell_type": "code",
   "execution_count": 7,
   "metadata": {},
   "outputs": [
    {
     "name": "stdout",
     "output_type": "stream",
     "text": [
      "Enter intial date: (yyyy-mm-dd) (As we want interval 1m date must be from last 30 days )2020-10-08\n"
     ]
    }
   ],
   "source": [
    "# Enter final date\n",
    "d2 = input(\"Enter intial date: (yyyy-mm-dd) (As we want interval 1m date must be from last 30 days )\")"
   ]
  },
  {
   "cell_type": "code",
   "execution_count": 8,
   "metadata": {},
   "outputs": [
    {
     "name": "stdout",
     "output_type": "stream",
     "text": [
      "[*********************100%***********************]  1 of 1 completed\n"
     ]
    }
   ],
   "source": [
    "# Download the data\n",
    "data = yf.download(ticker, start= d1, end= d2 , interval = '1m')"
   ]
  },
  {
   "cell_type": "code",
   "execution_count": 9,
   "metadata": {},
   "outputs": [
    {
     "name": "stdout",
     "output_type": "stream",
     "text": [
      "                                  Open         High          Low        Close  \\\n",
      "Datetime                                                                        \n",
      "2020-09-30 14:30:00-04:00  1480.670044  1480.670044  1477.900024  1478.290039   \n",
      "2020-09-30 14:31:00-04:00  1479.719971  1480.089966  1479.459961  1479.459961   \n",
      "2020-09-30 14:32:00-04:00  1478.310059  1478.310059  1478.000000  1478.000000   \n",
      "2020-09-30 14:33:00-04:00  1477.972168  1477.972168  1477.619995  1477.619995   \n",
      "2020-09-30 14:35:00-04:00  1478.250000  1478.250000  1477.300049  1478.250000   \n",
      "...                                ...          ...          ...          ...   \n",
      "2020-10-07 14:25:00-04:00  1462.310547  1462.373047  1461.800049  1461.994995   \n",
      "2020-10-07 14:26:00-04:00  1461.420044  1461.594971  1460.959961  1460.979980   \n",
      "2020-10-07 14:27:00-04:00  1460.020020  1462.050049  1460.020020  1462.040039   \n",
      "2020-10-07 14:28:00-04:00  1461.785034  1461.849976  1461.540039  1461.574951   \n",
      "2020-10-07 14:29:00-04:00  1461.699951  1461.699951  1461.420044  1461.430054   \n",
      "\n",
      "                             Adj Close  Volume  \n",
      "Datetime                                        \n",
      "2020-09-30 14:30:00-04:00  1478.290039       0  \n",
      "2020-09-30 14:31:00-04:00  1479.459961     741  \n",
      "2020-09-30 14:32:00-04:00  1478.000000    1659  \n",
      "2020-09-30 14:33:00-04:00  1477.619995    1216  \n",
      "2020-09-30 14:35:00-04:00  1478.250000    1116  \n",
      "...                                ...     ...  \n",
      "2020-10-07 14:25:00-04:00  1461.994995    4737  \n",
      "2020-10-07 14:26:00-04:00  1460.979980    1120  \n",
      "2020-10-07 14:27:00-04:00  1462.040039    2534  \n",
      "2020-10-07 14:28:00-04:00  1461.574951    3288  \n",
      "2020-10-07 14:29:00-04:00  1461.430054    1201  \n",
      "\n",
      "[1907 rows x 6 columns]\n"
     ]
    }
   ],
   "source": [
    "# Check the downlaod\n",
    "print(data)"
   ]
  },
  {
   "cell_type": "code",
   "execution_count": null,
   "metadata": {},
   "outputs": [],
   "source": []
  }
 ],
 "metadata": {
  "kernelspec": {
   "display_name": "Python 3",
   "language": "python",
   "name": "python3"
  },
  "language_info": {
   "codemirror_mode": {
    "name": "ipython",
    "version": 3
   },
   "file_extension": ".py",
   "mimetype": "text/x-python",
   "name": "python",
   "nbconvert_exporter": "python",
   "pygments_lexer": "ipython3",
   "version": "3.8.3"
  }
 },
 "nbformat": 4,
 "nbformat_minor": 4
}
